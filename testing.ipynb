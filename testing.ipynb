{
 "cells": [
  {
   "cell_type": "code",
   "execution_count": 1,
   "metadata": {},
   "outputs": [
    {
     "name": "stderr",
     "output_type": "stream",
     "text": [
      "c:\\Users\\esteb\\Proyectos\\llm-data-extractor\\.venv\\lib\\site-packages\\tqdm\\auto.py:21: TqdmWarning: IProgress not found. Please update jupyter and ipywidgets. See https://ipywidgets.readthedocs.io/en/stable/user_install.html\n",
      "  from .autonotebook import tqdm as notebook_tqdm\n"
     ]
    }
   ],
   "source": [
    "from llm_data_extractor.pipeline import run_pipeline"
   ]
  },
  {
   "cell_type": "code",
   "execution_count": 11,
   "metadata": {},
   "outputs": [
    {
     "data": {
      "text/plain": [
       "['SKILLS\\nPython 3+ yrs\\nMachine Learning 2.5+ yrs\\nSQL 2+ yrs\\nAlteryx 2+ yrs\\nDeep Learning 2+ yrs\\nPowerBI 1+ yrs\\nUi Path 1+ yrs\\nR 1+ yrs\\nCONTACT\\nRosario, Santa Fe\\n+54 3416751379\\nestebancometto@gmail.com\\nESTEBAN COMETTO\\nData Scientist and Python Developer\\nPROFILE\\nData Scientist with strong theoretical skills and passionate about data\\nanalysis.\\nPython Developer, specialized in machine learning and process automa-\\ntion, with knowledge in certain areas such as web scraping and web\\nbrowser automation.\\nStructured and customer-oriented work method, focused on quality and\\nmaintainability. Highly motivated to teamwork, both comfortable in large\\ncompanies and in small teams.\\nWORK EXPERIENCE\\nData Scientist/Analyst Jun 2019 - NOW\\nPWC Argentina\\nWorks in some subareas of the STEM area (Science, Technology, Engi-\\nneering and Mathematics)\\n•Implementation of machine learning methods for process automation and\\ndecision making\\n•Creation of standardized databases to allocate information\\n•Creation of dashboards for data visualization and decision making\\n•Creation of workflows for ETL automation and web processes\\n•Maintenance of existing infrastructure\\nTechnologies include:\\n•Python for tools related to machine learning\\n•SQL for database structuring\\n•Power BI for building dashboards\\n•Alteryx and Ui Path for process automation\\n•Azure for the maintenance of cloud computing services\\nAchievements include:\\n•Automate classification based on machine learning models\\n•Tool based on ReGex and NLP for the extraction of agreements metadata\\n•Recommendation systems for selection automation\\n•Dashboards for transfer pricing visualization',\n",
       " 'EDUCATION\\n2013 - 2017\\nBachelor Degree in Statistics\\nUniversidad Nacional de\\nRosario\\nCourse finished in 2017, working\\nin dissertation\\n2008 - 2012\\nBachelor in Economy\\nEscuela de Enseñanza Media\\nDr. Luis Maria Drago\\nCERTIFICATION\\nData Scientist with Python\\nTrack\\nDataCamp\\nMay 15, 2020\\n100 hours of course on statis-\\ntical techniques and machine\\nlearning with Python program-\\nming to analyze and interpret\\ncomplex data.\\nMachine Learning A-Z:\\nHands-On Python and R in\\nData Science\\nUdemy\\nAugust 5, 2020\\n15 hours course on big ideas in\\nmachine learning, how to build\\nand evaluate predictive models.\\n•Automation of data download process based on web driver']"
      ]
     },
     "execution_count": 11,
     "metadata": {},
     "output_type": "execute_result"
    }
   ],
   "source": [
    "import pypdf\n",
    "from io import BytesIO\n",
    "\n",
    "with open(r\"C:\\Users\\esteb\\Proyectos\\llm-data-extractor\\llm_data_extractor\\data\\CV_English.pdf\", \"rb\") as f:\n",
    "    file = f.read()\n",
    "\n",
    "[page.extract_text(0) for page in pypdf.PdfReader(BytesIO(file)).pages]"
   ]
  },
  {
   "cell_type": "code",
   "execution_count": 2,
   "metadata": {},
   "outputs": [
    {
     "data": {
      "text/plain": [
       "PydanticModel(name='ESTEBAN COMETTO')"
      ]
     },
     "execution_count": 2,
     "metadata": {},
     "output_type": "execute_result"
    }
   ],
   "source": [
    "run_pipeline(\n",
    "    file_path=r\"C:\\Users\\esteb\\Proyectos\\llm-data-extractor\\llm_data_extractor\\data\\CV_English.pdf\",\n",
    "    fields_to_extract={\n",
    "        \"name\": \"name of the candidate\"\n",
    "    }\n",
    ")"
   ]
  }
 ],
 "metadata": {
  "kernelspec": {
   "display_name": ".venv",
   "language": "python",
   "name": "python3"
  },
  "language_info": {
   "codemirror_mode": {
    "name": "ipython",
    "version": 3
   },
   "file_extension": ".py",
   "mimetype": "text/x-python",
   "name": "python",
   "nbconvert_exporter": "python",
   "pygments_lexer": "ipython3",
   "version": "3.10.11"
  }
 },
 "nbformat": 4,
 "nbformat_minor": 2
}
